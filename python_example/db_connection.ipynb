{
 "cells": [
  {
   "cell_type": "markdown",
   "id": "4a046182",
   "metadata": {},
   "source": [
    "# Conectando Python con Bases de Datos SQL Server\n",
    "\n",
    "1. Instalar las librerías necesarias\n",
    "2. Establecer la conexión a la base de datos\n",
    "3. Ejecutar consultas SQL\n",
    "4. Manejar resultados y cerrar la conexión\n",
    "5. Manejo y visualización de datos con pandas"
   ]
  },
  {
   "cell_type": "markdown",
   "id": "6baafa9c",
   "metadata": {},
   "source": [
    "# 1. Instalar las librerías necesarias"
   ]
  },
  {
   "cell_type": "code",
   "execution_count": null,
   "id": "87a5a9bb",
   "metadata": {},
   "outputs": [],
   "source": [
    "%pip install pyodbc pandas"
   ]
  },
  {
   "cell_type": "markdown",
   "id": "5f0b7f21",
   "metadata": {},
   "source": [
    "# 2. Establecer la conexión a la base de datos"
   ]
  },
  {
   "cell_type": "code",
   "execution_count": null,
   "id": "52b64901",
   "metadata": {},
   "outputs": [],
   "source": [
    "import pyodbc\n",
    "import pandas as pd\n",
    "\n",
    "# Configuración de la conexión\n",
    "server = 'not_my_real_db.not_my_region.02labs.me:1433'\n",
    "database = 'your_database'\n",
    "username = 'admin'\n",
    "password = 'your_password'\n",
    "driver = '{ODBC Driver 17 for SQL Server}'\n",
    "\n",
    "# Establecer la conexión\n",
    "conn_str = f'DRIVER={driver};SERVER={server};DATABASE={database};UID={username};PWD={password}'\n",
    "conn = pyodbc.connect(conn_str)"
   ]
  }
 ],
 "metadata": {
  "kernelspec": {
   "display_name": "base",
   "language": "python",
   "name": "python3"
  },
  "language_info": {
   "name": "python",
   "version": "3.11.5"
  }
 },
 "nbformat": 4,
 "nbformat_minor": 5
}
